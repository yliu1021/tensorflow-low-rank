{
 "cells": [
  {
   "cell_type": "code",
   "execution_count": 1,
   "metadata": {
    "collapsed": true
   },
   "outputs": [],
   "source": [
    "from glob import glob\n",
    "import os\n",
    "import json\n",
    "\n",
    "import numpy as np\n",
    "import pandas as pd\n",
    "import matplotlib.pyplot as plt"
   ]
  },
  {
   "cell_type": "code",
   "execution_count": 2,
   "outputs": [
    {
     "data": {
      "text/plain": "   initial_rank  new_rank  rank_update_epoch  total_epochs  \\\n0            -1        50                  2            50   \n1            -1        10                  1            50   \n2            -1         1                  3            50   \n3            -1        10                  2            50   \n4            -1        50                  1            50   \n\n                                                loss  \\\n0  [4.202199459075928, 3.7313878536224365, 3.4509...   \n1  [4.222362041473389, 3.7923026084899902, 3.4830...   \n2  [4.227800369262695, 3.734773635864258, 3.44326...   \n3  [4.193930149078369, 3.6461355686187744, 3.3890...   \n4  [4.211894989013672, 3.7534401416778564, 3.5121...   \n\n                                categorical_accuracy  \\\n0  [0.05696000158786774, 0.132860004901886, 0.179...   \n1  [0.053360000252723694, 0.12257999926805496, 0....   \n2  [0.05405999720096588, 0.13387998938560486, 0.1...   \n3  [0.06360000371932983, 0.15112000703811646, 0.1...   \n4  [0.0566600002348423, 0.12629999220371246, 0.16...   \n\n                                            val_loss  \\\n0  [3.9003472328186035, 3.5738186836242676, 3.401...   \n1  [4.027554512023926, 3.6350691318511963, 3.3990...   \n2  [3.965761661529541, 3.5441818237304688, 3.3739...   \n3  [3.839142084121704, 3.529560089111328, 3.32964...   \n4  [3.9092013835906982, 3.631721019744873, 3.4621...   \n\n                            val_categorical_accuracy  pre_update_loss  \\\n0  [0.10499999672174454, 0.1632000058889389, 0.18...         3.538350   \n1  [0.07930000126361847, 0.15469999611377716, 0.1...         4.007401   \n2  [0.08879999816417694, 0.16859999299049377, 0.1...         3.326760   \n3  [0.11630000174045563, 0.17299999296665192, 0.2...         3.485831   \n4  [0.1021999940276146, 0.1467999964952469, 0.178...         3.886894   \n\n   pre_update_categorical_accuracy  pre_update_val_loss  \\\n0                          0.16746             3.573815   \n1                          0.08396             4.027554   \n2                          0.20252             3.373964   \n3                          0.18218             3.529580   \n4                          0.10422             3.909202   \n\n   pre_update_val_categorical_accuracy  post_update_loss  \\\n0                               0.1632          3.538350   \n1                               0.0793          4.007401   \n2                               0.1986          3.326760   \n3                               0.1730          3.485831   \n4                               0.1022          3.886894   \n\n   post_update_categorical_accuracy  post_update_val_loss  \\\n0                           0.16746              3.573815   \n1                           0.08396              4.027554   \n2                           0.20252              3.373964   \n3                           0.18218              3.529580   \n4                           0.10422              3.909202   \n\n   post_update_val_categorical_accuracy  best_val_categorical_accuracy  \n0                                0.1632                         0.4228  \n1                                0.0793                         0.4158  \n2                                0.1986                         0.4222  \n3                                0.1730                         0.4158  \n4                                0.1022                         0.4323  ",
      "text/html": "<div>\n<style scoped>\n    .dataframe tbody tr th:only-of-type {\n        vertical-align: middle;\n    }\n\n    .dataframe tbody tr th {\n        vertical-align: top;\n    }\n\n    .dataframe thead th {\n        text-align: right;\n    }\n</style>\n<table border=\"1\" class=\"dataframe\">\n  <thead>\n    <tr style=\"text-align: right;\">\n      <th></th>\n      <th>initial_rank</th>\n      <th>new_rank</th>\n      <th>rank_update_epoch</th>\n      <th>total_epochs</th>\n      <th>loss</th>\n      <th>categorical_accuracy</th>\n      <th>val_loss</th>\n      <th>val_categorical_accuracy</th>\n      <th>pre_update_loss</th>\n      <th>pre_update_categorical_accuracy</th>\n      <th>pre_update_val_loss</th>\n      <th>pre_update_val_categorical_accuracy</th>\n      <th>post_update_loss</th>\n      <th>post_update_categorical_accuracy</th>\n      <th>post_update_val_loss</th>\n      <th>post_update_val_categorical_accuracy</th>\n      <th>best_val_categorical_accuracy</th>\n    </tr>\n  </thead>\n  <tbody>\n    <tr>\n      <th>0</th>\n      <td>-1</td>\n      <td>50</td>\n      <td>2</td>\n      <td>50</td>\n      <td>[4.202199459075928, 3.7313878536224365, 3.4509...</td>\n      <td>[0.05696000158786774, 0.132860004901886, 0.179...</td>\n      <td>[3.9003472328186035, 3.5738186836242676, 3.401...</td>\n      <td>[0.10499999672174454, 0.1632000058889389, 0.18...</td>\n      <td>3.538350</td>\n      <td>0.16746</td>\n      <td>3.573815</td>\n      <td>0.1632</td>\n      <td>3.538350</td>\n      <td>0.16746</td>\n      <td>3.573815</td>\n      <td>0.1632</td>\n      <td>0.4228</td>\n    </tr>\n    <tr>\n      <th>1</th>\n      <td>-1</td>\n      <td>10</td>\n      <td>1</td>\n      <td>50</td>\n      <td>[4.222362041473389, 3.7923026084899902, 3.4830...</td>\n      <td>[0.053360000252723694, 0.12257999926805496, 0....</td>\n      <td>[4.027554512023926, 3.6350691318511963, 3.3990...</td>\n      <td>[0.07930000126361847, 0.15469999611377716, 0.1...</td>\n      <td>4.007401</td>\n      <td>0.08396</td>\n      <td>4.027554</td>\n      <td>0.0793</td>\n      <td>4.007401</td>\n      <td>0.08396</td>\n      <td>4.027554</td>\n      <td>0.0793</td>\n      <td>0.4158</td>\n    </tr>\n    <tr>\n      <th>2</th>\n      <td>-1</td>\n      <td>1</td>\n      <td>3</td>\n      <td>50</td>\n      <td>[4.227800369262695, 3.734773635864258, 3.44326...</td>\n      <td>[0.05405999720096588, 0.13387998938560486, 0.1...</td>\n      <td>[3.965761661529541, 3.5441818237304688, 3.3739...</td>\n      <td>[0.08879999816417694, 0.16859999299049377, 0.1...</td>\n      <td>3.326760</td>\n      <td>0.20252</td>\n      <td>3.373964</td>\n      <td>0.1986</td>\n      <td>3.326760</td>\n      <td>0.20252</td>\n      <td>3.373964</td>\n      <td>0.1986</td>\n      <td>0.4222</td>\n    </tr>\n    <tr>\n      <th>3</th>\n      <td>-1</td>\n      <td>10</td>\n      <td>2</td>\n      <td>50</td>\n      <td>[4.193930149078369, 3.6461355686187744, 3.3890...</td>\n      <td>[0.06360000371932983, 0.15112000703811646, 0.1...</td>\n      <td>[3.839142084121704, 3.529560089111328, 3.32964...</td>\n      <td>[0.11630000174045563, 0.17299999296665192, 0.2...</td>\n      <td>3.485831</td>\n      <td>0.18218</td>\n      <td>3.529580</td>\n      <td>0.1730</td>\n      <td>3.485831</td>\n      <td>0.18218</td>\n      <td>3.529580</td>\n      <td>0.1730</td>\n      <td>0.4158</td>\n    </tr>\n    <tr>\n      <th>4</th>\n      <td>-1</td>\n      <td>50</td>\n      <td>1</td>\n      <td>50</td>\n      <td>[4.211894989013672, 3.7534401416778564, 3.5121...</td>\n      <td>[0.0566600002348423, 0.12629999220371246, 0.16...</td>\n      <td>[3.9092013835906982, 3.631721019744873, 3.4621...</td>\n      <td>[0.1021999940276146, 0.1467999964952469, 0.178...</td>\n      <td>3.886894</td>\n      <td>0.10422</td>\n      <td>3.909202</td>\n      <td>0.1022</td>\n      <td>3.886894</td>\n      <td>0.10422</td>\n      <td>3.909202</td>\n      <td>0.1022</td>\n      <td>0.4323</td>\n    </tr>\n  </tbody>\n</table>\n</div>"
     },
     "execution_count": 2,
     "metadata": {},
     "output_type": "execute_result"
    }
   ],
   "source": [
    "RESULTS = glob(os.path.join(\"set_rank_results_conv_cifar100\", \"*.json\"))\n",
    "results = pd.DataFrame([json.load(open(file)) for file in RESULTS])\n",
    "results[\"best_val_categorical_accuracy\"] = results[\"val_categorical_accuracy\"].map(np.max)\n",
    "results.head()"
   ],
   "metadata": {
    "collapsed": false,
    "pycharm": {
     "name": "#%%\n"
    }
   }
  },
  {
   "cell_type": "code",
   "execution_count": 3,
   "outputs": [
    {
     "data": {
      "text/plain": "(array([ 50,  10,   1, 160]), array([2, 1, 3]))"
     },
     "execution_count": 3,
     "metadata": {},
     "output_type": "execute_result"
    }
   ],
   "source": [
    "results[\"new_rank\"].unique(), results[\"rank_update_epoch\"].unique()"
   ],
   "metadata": {
    "collapsed": false,
    "pycharm": {
     "name": "#%%\n"
    }
   }
  },
  {
   "cell_type": "code",
   "execution_count": 4,
   "outputs": [
    {
     "data": {
      "text/plain": "<Figure size 432x288 with 1 Axes>",
      "image/png": "[encoded data removed]"
     },
     "metadata": {
      "needs_background": "light"
     },
     "output_type": "display_data"
    },
    {
     "data": {
      "text/plain": "         best_val_categorical_accuracy      \n                                  mean count\nnew_rank                                    \n1                              0.42326     5\n10                             0.42274     5\n50                             0.42470     3\n160                            0.42260     7",
      "text/html": "<div>\n<style scoped>\n    .dataframe tbody tr th:only-of-type {\n        vertical-align: middle;\n    }\n\n    .dataframe tbody tr th {\n        vertical-align: top;\n    }\n\n    .dataframe thead tr th {\n        text-align: left;\n    }\n\n    .dataframe thead tr:last-of-type th {\n        text-align: right;\n    }\n</style>\n<table border=\"1\" class=\"dataframe\">\n  <thead>\n    <tr>\n      <th></th>\n      <th colspan=\"2\" halign=\"left\">best_val_categorical_accuracy</th>\n    </tr>\n    <tr>\n      <th></th>\n      <th>mean</th>\n      <th>count</th>\n    </tr>\n    <tr>\n      <th>new_rank</th>\n      <th></th>\n      <th></th>\n    </tr>\n  </thead>\n  <tbody>\n    <tr>\n      <th>1</th>\n      <td>0.42326</td>\n      <td>5</td>\n    </tr>\n    <tr>\n      <th>10</th>\n      <td>0.42274</td>\n      <td>5</td>\n    </tr>\n    <tr>\n      <th>50</th>\n      <td>0.42470</td>\n      <td>3</td>\n    </tr>\n    <tr>\n      <th>160</th>\n      <td>0.42260</td>\n      <td>7</td>\n    </tr>\n  </tbody>\n</table>\n</div>"
     },
     "execution_count": 4,
     "metadata": {},
     "output_type": "execute_result"
    }
   ],
   "source": [
    "update_epoch = 2\n",
    "epoch_results = results.loc[\n",
    "    results[\"rank_update_epoch\"] == update_epoch,\n",
    "    [\"new_rank\", \"best_val_categorical_accuracy\"]\n",
    "]\n",
    "for new_rank in epoch_results[\"new_rank\"].unique():\n",
    "    plt.hist(\n",
    "        epoch_results.loc[epoch_results[\"new_rank\"] == new_rank, [\"best_val_categorical_accuracy\"]],\n",
    "        label=f\"{new_rank}\",\n",
    "        # bins=10,\n",
    "        alpha=0.25)\n",
    "plt.title(f\"Dropping rank on epoch {update_epoch}\")\n",
    "plt.xlabel(\"Best Val Acc\")\n",
    "plt.ylabel(\"Frequency\")\n",
    "plt.legend()\n",
    "plt.show()\n",
    "epoch_results.groupby(\"new_rank\").agg({\"best_val_categorical_accuracy\": [\"mean\", \"count\"]})"
   ],
   "metadata": {
    "collapsed": false,
    "pycharm": {
     "name": "#%%\n"
    }
   }
  },
  {
   "cell_type": "code",
   "execution_count": 4,
   "outputs": [],
   "source": [],
   "metadata": {
    "collapsed": false,
    "pycharm": {
     "name": "#%%\n"
    }
   }
  }
 ],
 "metadata": {
  "kernelspec": {
   "display_name": "Python 3",
   "language": "python",
   "name": "python3"
  },
  "language_info": {
   "codemirror_mode": {
    "name": "ipython",
    "version": 2
   },
   "file_extension": ".py",
   "mimetype": "text/x-python",
   "name": "python",
   "nbconvert_exporter": "python",
   "pygments_lexer": "ipython2",
   "version": "2.7.6"
  }
 },
 "nbformat": 4,
 "nbformat_minor": 0
}