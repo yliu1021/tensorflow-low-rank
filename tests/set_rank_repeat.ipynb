{
 "cells": [
  {
   "cell_type": "code",
   "execution_count": 1,
   "metadata": {
    "collapsed": true
   },
   "outputs": [],
   "source": [
    "from glob import glob\n",
    "import os\n",
    "import json\n",
    "\n",
    "import numpy as np\n",
    "import pandas as pd\n",
    "import matplotlib.pyplot as plt"
   ]
  },
  {
   "cell_type": "code",
   "execution_count": 2,
   "outputs": [
    {
     "data": {
      "text/plain": "   initial_rank  new_rank  rank_update_epoch  total_epochs  \\\n0            -1         1                  2            50   \n1            -1        50                  2            50   \n2            -1        10                  1            50   \n3            -1        50                  2            50   \n4            -1        10                  2            50   \n\n                                                loss  \\\n0  [4.2098774909973145, 3.7548668384552, 3.493559...   \n1  [4.234189510345459, 3.7823097705841064, 3.4778...   \n2  [4.21505069732666, 3.771216869354248, 3.477980...   \n3  [4.202199459075928, 3.7313878536224365, 3.4509...   \n4  [4.212864875793457, 3.736795663833618, 3.47986...   \n\n                                categorical_accuracy  \\\n0  [0.056859999895095825, 0.1296599954366684, 0.1...   \n1  [0.05065999925136566, 0.12253999710083008, 0.1...   \n2  [0.053679998964071274, 0.1236800029873848, 0.1...   \n3  [0.05696000158786774, 0.132860004901886, 0.179...   \n4  [0.053700000047683716, 0.12613999843597412, 0....   \n\n                                            val_loss  \\\n0  [3.933332920074463, 3.5879945755004883, 3.4347...   \n1  [3.9925167560577393, 3.6014816761016846, 3.423...   \n2  [3.9819538593292236, 3.598951578140259, 3.4070...   \n3  [3.9003472328186035, 3.5738186836242676, 3.401...   \n4  [3.9154319763183594, 3.589157819747925, 3.4086...   \n\n                            val_categorical_accuracy  pre_update_loss  \\\n0  [0.09830000251531601, 0.16130000352859497, 0.1...         3.556517   \n1  [0.08460000157356262, 0.15029999613761902, 0.1...         3.579200   \n2  [0.08749999850988388, 0.16089999675750732, 0.1...         3.958347   \n3  [0.10499999672174454, 0.1632000058889389, 0.18...         3.538350   \n4  [0.0997999981045723, 0.1535000056028366, 0.190...         3.555151   \n\n   pre_update_categorical_accuracy  pre_update_val_loss  \\\n0                          0.16402             3.587995   \n1                          0.15616             3.601446   \n2                          0.09196             3.981955   \n3                          0.16746             3.573815   \n4                          0.15974             3.589158   \n\n   pre_update_val_categorical_accuracy  post_update_loss  \\\n0                               0.1613          3.556517   \n1                               0.1504          3.579200   \n2                               0.0875          3.958347   \n3                               0.1632          3.538350   \n4                               0.1535          3.555151   \n\n   post_update_categorical_accuracy  post_update_val_loss  \\\n0                           0.16402              3.587995   \n1                           0.15616              3.601446   \n2                           0.09196              3.981955   \n3                           0.16746              3.573815   \n4                           0.15974              3.589158   \n\n   post_update_val_categorical_accuracy  best_val_categorical_accuracy  \n0                                0.1613                         0.4249  \n1                                0.1504                         0.4167  \n2                                0.0875                         0.4209  \n3                                0.1632                         0.4228  \n4                                0.1535                         0.4251  ",
      "text/html": "<div>\n<style scoped>\n    .dataframe tbody tr th:only-of-type {\n        vertical-align: middle;\n    }\n\n    .dataframe tbody tr th {\n        vertical-align: top;\n    }\n\n    .dataframe thead th {\n        text-align: right;\n    }\n</style>\n<table border=\"1\" class=\"dataframe\">\n  <thead>\n    <tr style=\"text-align: right;\">\n      <th></th>\n      <th>initial_rank</th>\n      <th>new_rank</th>\n      <th>rank_update_epoch</th>\n      <th>total_epochs</th>\n      <th>loss</th>\n      <th>categorical_accuracy</th>\n      <th>val_loss</th>\n      <th>val_categorical_accuracy</th>\n      <th>pre_update_loss</th>\n      <th>pre_update_categorical_accuracy</th>\n      <th>pre_update_val_loss</th>\n      <th>pre_update_val_categorical_accuracy</th>\n      <th>post_update_loss</th>\n      <th>post_update_categorical_accuracy</th>\n      <th>post_update_val_loss</th>\n      <th>post_update_val_categorical_accuracy</th>\n      <th>best_val_categorical_accuracy</th>\n    </tr>\n  </thead>\n  <tbody>\n    <tr>\n      <th>0</th>\n      <td>-1</td>\n      <td>1</td>\n      <td>2</td>\n      <td>50</td>\n      <td>[4.2098774909973145, 3.7548668384552, 3.493559...</td>\n      <td>[0.056859999895095825, 0.1296599954366684, 0.1...</td>\n      <td>[3.933332920074463, 3.5879945755004883, 3.4347...</td>\n      <td>[0.09830000251531601, 0.16130000352859497, 0.1...</td>\n      <td>3.556517</td>\n      <td>0.16402</td>\n      <td>3.587995</td>\n      <td>0.1613</td>\n      <td>3.556517</td>\n      <td>0.16402</td>\n      <td>3.587995</td>\n      <td>0.1613</td>\n      <td>0.4249</td>\n    </tr>\n    <tr>\n      <th>1</th>\n      <td>-1</td>\n      <td>50</td>\n      <td>2</td>\n      <td>50</td>\n      <td>[4.234189510345459, 3.7823097705841064, 3.4778...</td>\n      <td>[0.05065999925136566, 0.12253999710083008, 0.1...</td>\n      <td>[3.9925167560577393, 3.6014816761016846, 3.423...</td>\n      <td>[0.08460000157356262, 0.15029999613761902, 0.1...</td>\n      <td>3.579200</td>\n      <td>0.15616</td>\n      <td>3.601446</td>\n      <td>0.1504</td>\n      <td>3.579200</td>\n      <td>0.15616</td>\n      <td>3.601446</td>\n      <td>0.1504</td>\n      <td>0.4167</td>\n    </tr>\n    <tr>\n      <th>2</th>\n      <td>-1</td>\n      <td>10</td>\n      <td>1</td>\n      <td>50</td>\n      <td>[4.21505069732666, 3.771216869354248, 3.477980...</td>\n      <td>[0.053679998964071274, 0.1236800029873848, 0.1...</td>\n      <td>[3.9819538593292236, 3.598951578140259, 3.4070...</td>\n      <td>[0.08749999850988388, 0.16089999675750732, 0.1...</td>\n      <td>3.958347</td>\n      <td>0.09196</td>\n      <td>3.981955</td>\n      <td>0.0875</td>\n      <td>3.958347</td>\n      <td>0.09196</td>\n      <td>3.981955</td>\n      <td>0.0875</td>\n      <td>0.4209</td>\n    </tr>\n    <tr>\n      <th>3</th>\n      <td>-1</td>\n      <td>50</td>\n      <td>2</td>\n      <td>50</td>\n      <td>[4.202199459075928, 3.7313878536224365, 3.4509...</td>\n      <td>[0.05696000158786774, 0.132860004901886, 0.179...</td>\n      <td>[3.9003472328186035, 3.5738186836242676, 3.401...</td>\n      <td>[0.10499999672174454, 0.1632000058889389, 0.18...</td>\n      <td>3.538350</td>\n      <td>0.16746</td>\n      <td>3.573815</td>\n      <td>0.1632</td>\n      <td>3.538350</td>\n      <td>0.16746</td>\n      <td>3.573815</td>\n      <td>0.1632</td>\n      <td>0.4228</td>\n    </tr>\n    <tr>\n      <th>4</th>\n      <td>-1</td>\n      <td>10</td>\n      <td>2</td>\n      <td>50</td>\n      <td>[4.212864875793457, 3.736795663833618, 3.47986...</td>\n      <td>[0.053700000047683716, 0.12613999843597412, 0....</td>\n      <td>[3.9154319763183594, 3.589157819747925, 3.4086...</td>\n      <td>[0.0997999981045723, 0.1535000056028366, 0.190...</td>\n      <td>3.555151</td>\n      <td>0.15974</td>\n      <td>3.589158</td>\n      <td>0.1535</td>\n      <td>3.555151</td>\n      <td>0.15974</td>\n      <td>3.589158</td>\n      <td>0.1535</td>\n      <td>0.4251</td>\n    </tr>\n  </tbody>\n</table>\n</div>"
     },
     "execution_count": 2,
     "metadata": {},
     "output_type": "execute_result"
    }
   ],
   "source": [
    "RESULTS = glob(os.path.join(\"set_rank_results_conv_cifar100\", \"*.json\"))\n",
    "results = pd.DataFrame([json.load(open(file)) for file in RESULTS])\n",
    "results[\"best_val_categorical_accuracy\"] = results[\"val_categorical_accuracy\"].map(np.max)\n",
    "results.head()"
   ],
   "metadata": {
    "collapsed": false,
    "pycharm": {
     "name": "#%%\n"
    }
   }
  },
  {
   "cell_type": "code",
   "execution_count": 3,
   "outputs": [
    {
     "data": {
      "text/plain": "(array([  1,  50,  10, 160]), array([2, 1, 3]))"
     },
     "execution_count": 3,
     "metadata": {},
     "output_type": "execute_result"
    }
   ],
   "source": [
    "results[\"new_rank\"].unique(), results[\"rank_update_epoch\"].unique()"
   ],
   "metadata": {
    "collapsed": false,
    "pycharm": {
     "name": "#%%\n"
    }
   }
  },
  {
   "cell_type": "code",
   "execution_count": 7,
   "outputs": [
    {
     "data": {
      "text/plain": "<Figure size 432x288 with 1 Axes>",
      "image/png": "[encoded data removed]"
     },
     "metadata": {
      "needs_background": "light"
     },
     "output_type": "display_data"
    },
    {
     "data": {
      "text/plain": "         best_val_categorical_accuracy      \n                                  mean count\nnew_rank                                    \n1                             0.421890    21\n10                            0.421362    16\n50                            0.421075    12\n160                           0.420253    17",
      "text/html": "<div>\n<style scoped>\n    .dataframe tbody tr th:only-of-type {\n        vertical-align: middle;\n    }\n\n    .dataframe tbody tr th {\n        vertical-align: top;\n    }\n\n    .dataframe thead tr th {\n        text-align: left;\n    }\n\n    .dataframe thead tr:last-of-type th {\n        text-align: right;\n    }\n</style>\n<table border=\"1\" class=\"dataframe\">\n  <thead>\n    <tr>\n      <th></th>\n      <th colspan=\"2\" halign=\"left\">best_val_categorical_accuracy</th>\n    </tr>\n    <tr>\n      <th></th>\n      <th>mean</th>\n      <th>count</th>\n    </tr>\n    <tr>\n      <th>new_rank</th>\n      <th></th>\n      <th></th>\n    </tr>\n  </thead>\n  <tbody>\n    <tr>\n      <th>1</th>\n      <td>0.421890</td>\n      <td>21</td>\n    </tr>\n    <tr>\n      <th>10</th>\n      <td>0.421362</td>\n      <td>16</td>\n    </tr>\n    <tr>\n      <th>50</th>\n      <td>0.421075</td>\n      <td>12</td>\n    </tr>\n    <tr>\n      <th>160</th>\n      <td>0.420253</td>\n      <td>17</td>\n    </tr>\n  </tbody>\n</table>\n</div>"
     },
     "execution_count": 7,
     "metadata": {},
     "output_type": "execute_result"
    }
   ],
   "source": [
    "update_epoch = 2\n",
    "epoch_results = results.loc[\n",
    "    results[\"rank_update_epoch\"] == update_epoch,\n",
    "    [\"new_rank\", \"best_val_categorical_accuracy\"]\n",
    "]\n",
    "for new_rank in epoch_results[\"new_rank\"].unique():\n",
    "    plt.hist(\n",
    "        epoch_results.loc[epoch_results[\"new_rank\"] == new_rank, [\"best_val_categorical_accuracy\"]],\n",
    "        label=f\"{new_rank}\",\n",
    "        # bins=10,\n",
    "        alpha=0.25)\n",
    "plt.title(f\"Dropping rank on epoch {update_epoch}\")\n",
    "plt.xlabel(\"Best Val Acc\")\n",
    "plt.ylabel(\"Frequency\")\n",
    "plt.legend()\n",
    "plt.show()\n",
    "epoch_results.groupby(\"new_rank\").agg({\"best_val_categorical_accuracy\": [\"mean\", \"count\"]})"
   ],
   "metadata": {
    "collapsed": false,
    "pycharm": {
     "name": "#%%\n"
    }
   }
  },
  {
   "cell_type": "code",
   "execution_count": 8,
   "outputs": [
    {
     "data": {
      "text/plain": "Ttest_indResult(statistic=0.2941894265381319, pvalue=0.7703508893863821)"
     },
     "execution_count": 8,
     "metadata": {},
     "output_type": "execute_result"
    }
   ],
   "source": [
    "from scipy import stats\n",
    "stats.ttest_ind(\n",
    "    epoch_results.loc[epoch_results[\"new_rank\"] == 1, \"best_val_categorical_accuracy\"],\n",
    "    epoch_results.loc[epoch_results[\"new_rank\"] == 10, \"best_val_categorical_accuracy\"],\n",
    ")"
   ],
   "metadata": {
    "collapsed": false,
    "pycharm": {
     "name": "#%%\n"
    }
   }
  },
  {
   "cell_type": "code",
   "execution_count": null,
   "outputs": [],
   "source": [],
   "metadata": {
    "collapsed": false,
    "pycharm": {
     "name": "#%%\n"
    }
   }
  }
 ],
 "metadata": {
  "kernelspec": {
   "display_name": "Python 3",
   "language": "python",
   "name": "python3"
  },
  "language_info": {
   "codemirror_mode": {
    "name": "ipython",
    "version": 2
   },
   "file_extension": ".py",
   "mimetype": "text/x-python",
   "name": "python",
   "nbconvert_exporter": "python",
   "pygments_lexer": "ipython2",
   "version": "2.7.6"
  }
 },
 "nbformat": 4,
 "nbformat_minor": 0
}