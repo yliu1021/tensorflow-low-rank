{
 "cells": [
  {
   "cell_type": "code",
   "execution_count": 14,
   "metadata": {
    "collapsed": true
   },
   "outputs": [],
   "source": [
    "from glob import glob\n",
    "import os\n",
    "import json\n",
    "\n",
    "import numpy as np\n",
    "import pandas as pd\n",
    "import matplotlib.pyplot as plt"
   ]
  },
  {
   "cell_type": "code",
   "execution_count": 15,
   "outputs": [
    {
     "data": {
      "text/plain": "   initial_rank  new_rank  rank_update_epoch  total_epochs  \\\n0            -1       160                  3            50   \n1            -1       160                  3            50   \n2            -1         1                  2            50   \n3            -1        10                  1            50   \n4            -1        10                  2            50   \n\n                                                loss  \\\n0  [1.7554229497909546, 1.4456746578216553, 1.312...   \n1  [1.748547911643982, 1.442836880683899, 1.31502...   \n2  [1.7701950073242188, 1.4406222105026245, 1.317...   \n3  [1.7500041723251343, 1.4324498176574707, 1.299...   \n4  [1.7486727237701416, 1.4378107786178589, 1.307...   \n\n                                categorical_accuracy  \\\n0  [0.35468000173568726, 0.47137999534606934, 0.5...   \n1  [0.3552999794483185, 0.47401997447013855, 0.52...   \n2  [0.34425997734069824, 0.47189998626708984, 0.5...   \n3  [0.3546600043773651, 0.4763999879360199, 0.529...   \n4  [0.35575997829437256, 0.4782799780368805, 0.52...   \n\n                                            val_loss  \\\n0  [1.5234348773956299, 1.367756962776184, 1.2588...   \n1  [1.5217300653457642, 1.3854939937591553, 1.254...   \n2  [1.5091379880905151, 1.3413546085357666, 1.277...   \n3  [1.5113860368728638, 1.3492108583450317, 1.267...   \n4  [1.5040370225906372, 1.3564341068267822, 1.306...   \n\n                            val_categorical_accuracy  pre_update_loss  \\\n0  [0.4422999918460846, 0.49570000171661377, 0.54...         1.251135   \n1  [0.4404999911785126, 0.4948999881744385, 0.542...         1.247572   \n2  [0.43709999322891235, 0.5120999813079834, 0.53...         1.346190   \n3  [0.4502999782562256, 0.513700008392334, 0.5449...         1.516364   \n4  [0.4542999863624573, 0.5054000020027161, 0.531...         1.356356   \n\n   pre_update_categorical_accuracy  pre_update_val_loss  \\\n0                          0.54498             1.258807   \n1                          0.54868             1.254613   \n2                          0.51228             1.341355   \n3                          0.44416             1.511385   \n4                          0.50780             1.356434   \n\n   pre_update_val_categorical_accuracy  post_update_loss  \\\n0                               0.5404          1.251135   \n1                               0.5421          1.247572   \n2                               0.5121          1.346190   \n3                               0.4503          1.516364   \n4                               0.5054          1.356356   \n\n   post_update_categorical_accuracy  post_update_val_loss  \\\n0                           0.54498              1.258807   \n1                           0.54868              1.254613   \n2                           0.51228              1.341355   \n3                           0.44416              1.511385   \n4                           0.50780              1.356434   \n\n   post_update_val_categorical_accuracy  best_val_categorical_accuracy  \n0                                0.5404                         0.7720  \n1                                0.5421                         0.7714  \n2                                0.5121                         0.7661  \n3                                0.4503                         0.7703  \n4                                0.5054                         0.7722  ",
      "text/html": "<div>\n<style scoped>\n    .dataframe tbody tr th:only-of-type {\n        vertical-align: middle;\n    }\n\n    .dataframe tbody tr th {\n        vertical-align: top;\n    }\n\n    .dataframe thead th {\n        text-align: right;\n    }\n</style>\n<table border=\"1\" class=\"dataframe\">\n  <thead>\n    <tr style=\"text-align: right;\">\n      <th></th>\n      <th>initial_rank</th>\n      <th>new_rank</th>\n      <th>rank_update_epoch</th>\n      <th>total_epochs</th>\n      <th>loss</th>\n      <th>categorical_accuracy</th>\n      <th>val_loss</th>\n      <th>val_categorical_accuracy</th>\n      <th>pre_update_loss</th>\n      <th>pre_update_categorical_accuracy</th>\n      <th>pre_update_val_loss</th>\n      <th>pre_update_val_categorical_accuracy</th>\n      <th>post_update_loss</th>\n      <th>post_update_categorical_accuracy</th>\n      <th>post_update_val_loss</th>\n      <th>post_update_val_categorical_accuracy</th>\n      <th>best_val_categorical_accuracy</th>\n    </tr>\n  </thead>\n  <tbody>\n    <tr>\n      <th>0</th>\n      <td>-1</td>\n      <td>160</td>\n      <td>3</td>\n      <td>50</td>\n      <td>[1.7554229497909546, 1.4456746578216553, 1.312...</td>\n      <td>[0.35468000173568726, 0.47137999534606934, 0.5...</td>\n      <td>[1.5234348773956299, 1.367756962776184, 1.2588...</td>\n      <td>[0.4422999918460846, 0.49570000171661377, 0.54...</td>\n      <td>1.251135</td>\n      <td>0.54498</td>\n      <td>1.258807</td>\n      <td>0.5404</td>\n      <td>1.251135</td>\n      <td>0.54498</td>\n      <td>1.258807</td>\n      <td>0.5404</td>\n      <td>0.7720</td>\n    </tr>\n    <tr>\n      <th>1</th>\n      <td>-1</td>\n      <td>160</td>\n      <td>3</td>\n      <td>50</td>\n      <td>[1.748547911643982, 1.442836880683899, 1.31502...</td>\n      <td>[0.3552999794483185, 0.47401997447013855, 0.52...</td>\n      <td>[1.5217300653457642, 1.3854939937591553, 1.254...</td>\n      <td>[0.4404999911785126, 0.4948999881744385, 0.542...</td>\n      <td>1.247572</td>\n      <td>0.54868</td>\n      <td>1.254613</td>\n      <td>0.5421</td>\n      <td>1.247572</td>\n      <td>0.54868</td>\n      <td>1.254613</td>\n      <td>0.5421</td>\n      <td>0.7714</td>\n    </tr>\n    <tr>\n      <th>2</th>\n      <td>-1</td>\n      <td>1</td>\n      <td>2</td>\n      <td>50</td>\n      <td>[1.7701950073242188, 1.4406222105026245, 1.317...</td>\n      <td>[0.34425997734069824, 0.47189998626708984, 0.5...</td>\n      <td>[1.5091379880905151, 1.3413546085357666, 1.277...</td>\n      <td>[0.43709999322891235, 0.5120999813079834, 0.53...</td>\n      <td>1.346190</td>\n      <td>0.51228</td>\n      <td>1.341355</td>\n      <td>0.5121</td>\n      <td>1.346190</td>\n      <td>0.51228</td>\n      <td>1.341355</td>\n      <td>0.5121</td>\n      <td>0.7661</td>\n    </tr>\n    <tr>\n      <th>3</th>\n      <td>-1</td>\n      <td>10</td>\n      <td>1</td>\n      <td>50</td>\n      <td>[1.7500041723251343, 1.4324498176574707, 1.299...</td>\n      <td>[0.3546600043773651, 0.4763999879360199, 0.529...</td>\n      <td>[1.5113860368728638, 1.3492108583450317, 1.267...</td>\n      <td>[0.4502999782562256, 0.513700008392334, 0.5449...</td>\n      <td>1.516364</td>\n      <td>0.44416</td>\n      <td>1.511385</td>\n      <td>0.4503</td>\n      <td>1.516364</td>\n      <td>0.44416</td>\n      <td>1.511385</td>\n      <td>0.4503</td>\n      <td>0.7703</td>\n    </tr>\n    <tr>\n      <th>4</th>\n      <td>-1</td>\n      <td>10</td>\n      <td>2</td>\n      <td>50</td>\n      <td>[1.7486727237701416, 1.4378107786178589, 1.307...</td>\n      <td>[0.35575997829437256, 0.4782799780368805, 0.52...</td>\n      <td>[1.5040370225906372, 1.3564341068267822, 1.306...</td>\n      <td>[0.4542999863624573, 0.5054000020027161, 0.531...</td>\n      <td>1.356356</td>\n      <td>0.50780</td>\n      <td>1.356434</td>\n      <td>0.5054</td>\n      <td>1.356356</td>\n      <td>0.50780</td>\n      <td>1.356434</td>\n      <td>0.5054</td>\n      <td>0.7722</td>\n    </tr>\n  </tbody>\n</table>\n</div>"
     },
     "execution_count": 15,
     "metadata": {},
     "output_type": "execute_result"
    }
   ],
   "source": [
    "RESULTS = glob(os.path.join(\"set_rank_results_conv_cifar10\", \"*.json\"))\n",
    "results = pd.DataFrame([json.load(open(file)) for file in RESULTS])\n",
    "results[\"best_val_categorical_accuracy\"] = results[\"val_categorical_accuracy\"].map(np.max)\n",
    "results.head()"
   ],
   "metadata": {
    "collapsed": false,
    "pycharm": {
     "name": "#%%\n"
    }
   }
  },
  {
   "cell_type": "code",
   "execution_count": 16,
   "outputs": [
    {
     "data": {
      "text/plain": "(array([160,   1,  10,  50]), array([3, 2, 1]))"
     },
     "execution_count": 16,
     "metadata": {},
     "output_type": "execute_result"
    }
   ],
   "source": [
    "results[\"new_rank\"].unique(), results[\"rank_update_epoch\"].unique()"
   ],
   "metadata": {
    "collapsed": false,
    "pycharm": {
     "name": "#%%\n"
    }
   }
  },
  {
   "cell_type": "code",
   "execution_count": 17,
   "outputs": [
    {
     "data": {
      "text/plain": "<Figure size 432x288 with 1 Axes>",
      "image/png": "[encoded data removed]"
     },
     "metadata": {
      "needs_background": "light"
     },
     "output_type": "display_data"
    },
    {
     "data": {
      "text/plain": "          new_rank  best_val_categorical_accuracy\nnew_rank                                         \n1              1.0                       0.765980\n10            10.0                       0.767220\n50            50.0                       0.765667\n160          160.0                       0.766720",
      "text/html": "<div>\n<style scoped>\n    .dataframe tbody tr th:only-of-type {\n        vertical-align: middle;\n    }\n\n    .dataframe tbody tr th {\n        vertical-align: top;\n    }\n\n    .dataframe thead th {\n        text-align: right;\n    }\n</style>\n<table border=\"1\" class=\"dataframe\">\n  <thead>\n    <tr style=\"text-align: right;\">\n      <th></th>\n      <th>new_rank</th>\n      <th>best_val_categorical_accuracy</th>\n    </tr>\n    <tr>\n      <th>new_rank</th>\n      <th></th>\n      <th></th>\n    </tr>\n  </thead>\n  <tbody>\n    <tr>\n      <th>1</th>\n      <td>1.0</td>\n      <td>0.765980</td>\n    </tr>\n    <tr>\n      <th>10</th>\n      <td>10.0</td>\n      <td>0.767220</td>\n    </tr>\n    <tr>\n      <th>50</th>\n      <td>50.0</td>\n      <td>0.765667</td>\n    </tr>\n    <tr>\n      <th>160</th>\n      <td>160.0</td>\n      <td>0.766720</td>\n    </tr>\n  </tbody>\n</table>\n</div>"
     },
     "execution_count": 17,
     "metadata": {},
     "output_type": "execute_result"
    }
   ],
   "source": [
    "update_epoch = 2\n",
    "epoch_results = results.loc[\n",
    "    results[\"rank_update_epoch\"] == update_epoch,\n",
    "    [\"new_rank\", \"best_val_categorical_accuracy\"]\n",
    "]\n",
    "for new_rank in epoch_results[\"new_rank\"].unique():\n",
    "    plt.hist(\n",
    "        epoch_results.loc[epoch_results[\"new_rank\"] == new_rank, [\"best_val_categorical_accuracy\"]],\n",
    "        label=f\"{new_rank}\",\n",
    "        # bins=10,\n",
    "        alpha=0.25)\n",
    "plt.title(f\"Dropping rank on epoch {update_epoch}\")\n",
    "plt.xlabel(\"Best Val Acc\")\n",
    "plt.ylabel(\"Frequency\")\n",
    "plt.legend()\n",
    "plt.show()\n",
    "epoch_results.groupby(\"new_rank\").apply(np.mean)"
   ],
   "metadata": {
    "collapsed": false,
    "pycharm": {
     "name": "#%%\n"
    }
   }
  },
  {
   "cell_type": "code",
   "execution_count": 17,
   "outputs": [],
   "source": [],
   "metadata": {
    "collapsed": false,
    "pycharm": {
     "name": "#%%\n"
    }
   }
  }
 ],
 "metadata": {
  "kernelspec": {
   "display_name": "Python 3",
   "language": "python",
   "name": "python3"
  },
  "language_info": {
   "codemirror_mode": {
    "name": "ipython",
    "version": 2
   },
   "file_extension": ".py",
   "mimetype": "text/x-python",
   "name": "python",
   "nbconvert_exporter": "python",
   "pygments_lexer": "ipython2",
   "version": "2.7.6"
  }
 },
 "nbformat": 4,
 "nbformat_minor": 0
}