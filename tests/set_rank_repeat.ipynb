{
 "cells": [
  {
   "cell_type": "code",
   "execution_count": 1,
   "metadata": {
    "collapsed": true
   },
   "outputs": [],
   "source": [
    "from glob import glob\n",
    "import os\n",
    "import json\n",
    "\n",
    "import numpy as np\n",
    "import pandas as pd\n",
    "import matplotlib.pyplot as plt"
   ]
  },
  {
   "cell_type": "code",
   "execution_count": 2,
   "outputs": [
    {
     "data": {
      "text/plain": "   initial_rank  new_rank  rank_update_epoch  total_epochs  \\\n0            -1         1                  3            50   \n1            -1        10                  2            50   \n2            -1        50                  1            50   \n3            -1       160                  1            50   \n4            -1        10                  3            50   \n\n                                                loss  \\\n0  [4.227800369262695, 3.734773635864258, 3.44326...   \n1  [4.193930149078369, 3.6461355686187744, 3.3890...   \n2  [4.211894989013672, 3.7534401416778564, 3.5121...   \n3  [4.156297206878662, 3.667863130569458, 3.45413...   \n4  [4.208507061004639, 3.774122476577759, 3.52627...   \n\n                                categorical_accuracy  \\\n0  [0.05405999720096588, 0.13387998938560486, 0.1...   \n1  [0.06360000371932983, 0.15112000703811646, 0.1...   \n2  [0.0566600002348423, 0.12629999220371246, 0.16...   \n3  [0.06351999938488007, 0.14005999267101288, 0.1...   \n4  [0.05593999847769737, 0.1240599974989891, 0.16...   \n\n                                            val_loss  \\\n0  [3.965761661529541, 3.5441818237304688, 3.3739...   \n1  [3.839142084121704, 3.529560089111328, 3.32964...   \n2  [3.9092013835906982, 3.631721019744873, 3.4621...   \n3  [3.8320679664611816, 3.573089122772217, 3.3919...   \n4  [3.936525583267212, 3.6506218910217285, 3.4352...   \n\n                            val_categorical_accuracy  pre_update_loss  \\\n0  [0.08879999816417694, 0.16859999299049377, 0.1...         3.326760   \n1  [0.11630000174045563, 0.17299999296665192, 0.2...         3.485831   \n2  [0.1021999940276146, 0.1467999964952469, 0.178...         3.886894   \n3  [0.12039999663829803, 0.15780000388622284, 0.1...         3.816803   \n4  [0.09569999575614929, 0.1477999985218048, 0.18...         3.391030   \n\n   pre_update_categorical_accuracy  pre_update_val_loss  \\\n0                          0.20252             3.373964   \n1                          0.18218             3.529580   \n2                          0.10422             3.909202   \n3                          0.11748             3.832068   \n4                          0.18912             3.435238   \n\n   pre_update_val_categorical_accuracy  post_update_loss  \\\n0                               0.1986          3.326760   \n1                               0.1730          3.485831   \n2                               0.1022          3.886894   \n3                               0.1203          3.816803   \n4                               0.1859          3.391030   \n\n   post_update_categorical_accuracy  post_update_val_loss  \\\n0                           0.20252              3.373964   \n1                           0.18218              3.529580   \n2                           0.10422              3.909202   \n3                           0.11748              3.832068   \n4                           0.18912              3.435238   \n\n   post_update_val_categorical_accuracy  best_val_categorical_accuracy  \n0                                0.1986                         0.4222  \n1                                0.1730                         0.4158  \n2                                0.1022                         0.4323  \n3                                0.1203                         0.4201  \n4                                0.1859                         0.4253  ",
      "text/html": "<div>\n<style scoped>\n    .dataframe tbody tr th:only-of-type {\n        vertical-align: middle;\n    }\n\n    .dataframe tbody tr th {\n        vertical-align: top;\n    }\n\n    .dataframe thead th {\n        text-align: right;\n    }\n</style>\n<table border=\"1\" class=\"dataframe\">\n  <thead>\n    <tr style=\"text-align: right;\">\n      <th></th>\n      <th>initial_rank</th>\n      <th>new_rank</th>\n      <th>rank_update_epoch</th>\n      <th>total_epochs</th>\n      <th>loss</th>\n      <th>categorical_accuracy</th>\n      <th>val_loss</th>\n      <th>val_categorical_accuracy</th>\n      <th>pre_update_loss</th>\n      <th>pre_update_categorical_accuracy</th>\n      <th>pre_update_val_loss</th>\n      <th>pre_update_val_categorical_accuracy</th>\n      <th>post_update_loss</th>\n      <th>post_update_categorical_accuracy</th>\n      <th>post_update_val_loss</th>\n      <th>post_update_val_categorical_accuracy</th>\n      <th>best_val_categorical_accuracy</th>\n    </tr>\n  </thead>\n  <tbody>\n    <tr>\n      <th>0</th>\n      <td>-1</td>\n      <td>1</td>\n      <td>3</td>\n      <td>50</td>\n      <td>[4.227800369262695, 3.734773635864258, 3.44326...</td>\n      <td>[0.05405999720096588, 0.13387998938560486, 0.1...</td>\n      <td>[3.965761661529541, 3.5441818237304688, 3.3739...</td>\n      <td>[0.08879999816417694, 0.16859999299049377, 0.1...</td>\n      <td>3.326760</td>\n      <td>0.20252</td>\n      <td>3.373964</td>\n      <td>0.1986</td>\n      <td>3.326760</td>\n      <td>0.20252</td>\n      <td>3.373964</td>\n      <td>0.1986</td>\n      <td>0.4222</td>\n    </tr>\n    <tr>\n      <th>1</th>\n      <td>-1</td>\n      <td>10</td>\n      <td>2</td>\n      <td>50</td>\n      <td>[4.193930149078369, 3.6461355686187744, 3.3890...</td>\n      <td>[0.06360000371932983, 0.15112000703811646, 0.1...</td>\n      <td>[3.839142084121704, 3.529560089111328, 3.32964...</td>\n      <td>[0.11630000174045563, 0.17299999296665192, 0.2...</td>\n      <td>3.485831</td>\n      <td>0.18218</td>\n      <td>3.529580</td>\n      <td>0.1730</td>\n      <td>3.485831</td>\n      <td>0.18218</td>\n      <td>3.529580</td>\n      <td>0.1730</td>\n      <td>0.4158</td>\n    </tr>\n    <tr>\n      <th>2</th>\n      <td>-1</td>\n      <td>50</td>\n      <td>1</td>\n      <td>50</td>\n      <td>[4.211894989013672, 3.7534401416778564, 3.5121...</td>\n      <td>[0.0566600002348423, 0.12629999220371246, 0.16...</td>\n      <td>[3.9092013835906982, 3.631721019744873, 3.4621...</td>\n      <td>[0.1021999940276146, 0.1467999964952469, 0.178...</td>\n      <td>3.886894</td>\n      <td>0.10422</td>\n      <td>3.909202</td>\n      <td>0.1022</td>\n      <td>3.886894</td>\n      <td>0.10422</td>\n      <td>3.909202</td>\n      <td>0.1022</td>\n      <td>0.4323</td>\n    </tr>\n    <tr>\n      <th>3</th>\n      <td>-1</td>\n      <td>160</td>\n      <td>1</td>\n      <td>50</td>\n      <td>[4.156297206878662, 3.667863130569458, 3.45413...</td>\n      <td>[0.06351999938488007, 0.14005999267101288, 0.1...</td>\n      <td>[3.8320679664611816, 3.573089122772217, 3.3919...</td>\n      <td>[0.12039999663829803, 0.15780000388622284, 0.1...</td>\n      <td>3.816803</td>\n      <td>0.11748</td>\n      <td>3.832068</td>\n      <td>0.1203</td>\n      <td>3.816803</td>\n      <td>0.11748</td>\n      <td>3.832068</td>\n      <td>0.1203</td>\n      <td>0.4201</td>\n    </tr>\n    <tr>\n      <th>4</th>\n      <td>-1</td>\n      <td>10</td>\n      <td>3</td>\n      <td>50</td>\n      <td>[4.208507061004639, 3.774122476577759, 3.52627...</td>\n      <td>[0.05593999847769737, 0.1240599974989891, 0.16...</td>\n      <td>[3.936525583267212, 3.6506218910217285, 3.4352...</td>\n      <td>[0.09569999575614929, 0.1477999985218048, 0.18...</td>\n      <td>3.391030</td>\n      <td>0.18912</td>\n      <td>3.435238</td>\n      <td>0.1859</td>\n      <td>3.391030</td>\n      <td>0.18912</td>\n      <td>3.435238</td>\n      <td>0.1859</td>\n      <td>0.4253</td>\n    </tr>\n  </tbody>\n</table>\n</div>"
     },
     "execution_count": 2,
     "metadata": {},
     "output_type": "execute_result"
    }
   ],
   "source": [
    "RESULTS = glob(os.path.join(\"set_rank_results_conv_cifar100\", \"*.json\"))\n",
    "results = pd.DataFrame([json.load(open(file)) for file in RESULTS])\n",
    "results[\"best_val_categorical_accuracy\"] = results[\"val_categorical_accuracy\"].map(np.max)\n",
    "results.head()"
   ],
   "metadata": {
    "collapsed": false,
    "pycharm": {
     "name": "#%%\n"
    }
   }
  },
  {
   "cell_type": "code",
   "execution_count": 3,
   "outputs": [
    {
     "data": {
      "text/plain": "(array([  1,  10,  50, 160]), array([3, 2, 1]))"
     },
     "execution_count": 3,
     "metadata": {},
     "output_type": "execute_result"
    }
   ],
   "source": [
    "results[\"new_rank\"].unique(), results[\"rank_update_epoch\"].unique()"
   ],
   "metadata": {
    "collapsed": false,
    "pycharm": {
     "name": "#%%\n"
    }
   }
  },
  {
   "cell_type": "code",
   "execution_count": 12,
   "outputs": [
    {
     "data": {
      "text/plain": "<Figure size 432x288 with 1 Axes>",
      "image/png": "[encoded data removed]"
     },
     "metadata": {
      "needs_background": "light"
     },
     "output_type": "display_data"
    },
    {
     "data": {
      "text/plain": "         best_val_categorical_accuracy      \n                                  mean count\nnew_rank                                    \n1                             0.420900     1\n10                            0.422767     3\n50                            0.426600     1\n160                           0.423125     4",
      "text/html": "<div>\n<style scoped>\n    .dataframe tbody tr th:only-of-type {\n        vertical-align: middle;\n    }\n\n    .dataframe tbody tr th {\n        vertical-align: top;\n    }\n\n    .dataframe thead tr th {\n        text-align: left;\n    }\n\n    .dataframe thead tr:last-of-type th {\n        text-align: right;\n    }\n</style>\n<table border=\"1\" class=\"dataframe\">\n  <thead>\n    <tr>\n      <th></th>\n      <th colspan=\"2\" halign=\"left\">best_val_categorical_accuracy</th>\n    </tr>\n    <tr>\n      <th></th>\n      <th>mean</th>\n      <th>count</th>\n    </tr>\n    <tr>\n      <th>new_rank</th>\n      <th></th>\n      <th></th>\n    </tr>\n  </thead>\n  <tbody>\n    <tr>\n      <th>1</th>\n      <td>0.420900</td>\n      <td>1</td>\n    </tr>\n    <tr>\n      <th>10</th>\n      <td>0.422767</td>\n      <td>3</td>\n    </tr>\n    <tr>\n      <th>50</th>\n      <td>0.426600</td>\n      <td>1</td>\n    </tr>\n    <tr>\n      <th>160</th>\n      <td>0.423125</td>\n      <td>4</td>\n    </tr>\n  </tbody>\n</table>\n</div>"
     },
     "execution_count": 12,
     "metadata": {},
     "output_type": "execute_result"
    }
   ],
   "source": [
    "update_epoch = 2\n",
    "epoch_results = results.loc[\n",
    "    results[\"rank_update_epoch\"] == update_epoch,\n",
    "    [\"new_rank\", \"best_val_categorical_accuracy\"]\n",
    "]\n",
    "for new_rank in epoch_results[\"new_rank\"].unique():\n",
    "    plt.hist(\n",
    "        epoch_results.loc[epoch_results[\"new_rank\"] == new_rank, [\"best_val_categorical_accuracy\"]],\n",
    "        label=f\"{new_rank}\",\n",
    "        # bins=10,\n",
    "        alpha=0.25)\n",
    "plt.title(f\"Dropping rank on epoch {update_epoch}\")\n",
    "plt.xlabel(\"Best Val Acc\")\n",
    "plt.ylabel(\"Frequency\")\n",
    "plt.legend()\n",
    "plt.show()\n",
    "epoch_results.groupby(\"new_rank\").agg({\"best_val_categorical_accuracy\": [\"mean\", \"count\"]})"
   ],
   "metadata": {
    "collapsed": false,
    "pycharm": {
     "name": "#%%\n"
    }
   }
  },
  {
   "cell_type": "code",
   "execution_count": 4,
   "outputs": [],
   "source": [],
   "metadata": {
    "collapsed": false,
    "pycharm": {
     "name": "#%%\n"
    }
   }
  }
 ],
 "metadata": {
  "kernelspec": {
   "display_name": "Python 3",
   "language": "python",
   "name": "python3"
  },
  "language_info": {
   "codemirror_mode": {
    "name": "ipython",
    "version": 2
   },
   "file_extension": ".py",
   "mimetype": "text/x-python",
   "name": "python",
   "nbconvert_exporter": "python",
   "pygments_lexer": "ipython2",
   "version": "2.7.6"
  }
 },
 "nbformat": 4,
 "nbformat_minor": 0
}