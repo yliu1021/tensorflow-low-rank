{
 "cells": [
  {
   "cell_type": "code",
   "execution_count": 14,
   "metadata": {
    "collapsed": true
   },
   "outputs": [],
   "source": [
    "from glob import glob\n",
    "import os\n",
    "import json\n",
    "\n",
    "import numpy as np\n",
    "import pandas as pd\n",
    "import matplotlib.pyplot as plt"
   ]
  },
  {
   "cell_type": "code",
   "execution_count": 18,
   "outputs": [
    {
     "data": {
      "text/plain": "   initial_rank  new_rank  rank_update_epoch  total_epochs  \\\n0            -1        50                  1            50   \n1            -1        10                  3            50   \n2            -1        50                  2            50   \n3            -1        10                  2            50   \n4            -1       160                  3            50   \n\n                                                loss  \\\n0  [4.211894989013672, 3.7534401416778564, 3.5121...   \n1  [4.208507061004639, 3.774122476577759, 3.52627...   \n2  [4.226785659790039, 3.791909694671631, 3.53389...   \n3  [4.224714756011963, 3.7752363681793213, 3.5254...   \n4  [4.2550835609436035, 3.849698066711426, 3.5598...   \n\n                                categorical_accuracy  \\\n0  [0.0566600002348423, 0.12629999220371246, 0.16...   \n1  [0.05593999847769737, 0.1240599974989891, 0.16...   \n2  [0.05289999768137932, 0.11937999725341797, 0.1...   \n3  [0.053439997136592865, 0.12135999649763107, 0....   \n4  [0.04797999933362007, 0.10892000049352646, 0.1...   \n\n                                            val_loss  \\\n0  [3.9092013835906982, 3.631721019744873, 3.4621...   \n1  [3.936525583267212, 3.6506218910217285, 3.4352...   \n2  [3.951653003692627, 3.7066705226898193, 3.4429...   \n3  [3.9386816024780273, 3.6827845573425293, 3.461...   \n4  [4.051120281219482, 3.6908910274505615, 3.4709...   \n\n                            val_categorical_accuracy  pre_update_loss  \\\n0  [0.1021999940276146, 0.1467999964952469, 0.178...         3.886894   \n1  [0.09569999575614929, 0.1477999985218048, 0.18...         3.391030   \n2  [0.08590000122785568, 0.1281999945640564, 0.18...         3.677031   \n3  [0.09510000050067902, 0.1354999989271164, 0.18...         3.647365   \n4  [0.0731000006198883, 0.1378999948501587, 0.173...         3.429373   \n\n   pre_update_categorical_accuracy  pre_update_val_loss  \\\n0                          0.10422             3.909202   \n1                          0.18912             3.435238   \n2                          0.13582             3.706670   \n3                          0.14458             3.682785   \n4                          0.18222             3.470925   \n\n   pre_update_val_categorical_accuracy  post_update_loss  \\\n0                               0.1022          3.886894   \n1                               0.1859          3.391030   \n2                               0.1282          3.677031   \n3                               0.1355          3.647365   \n4                               0.1734          3.429373   \n\n   post_update_categorical_accuracy  post_update_val_loss  \\\n0                           0.10422              3.909202   \n1                           0.18912              3.435238   \n2                           0.13582              3.706670   \n3                           0.14458              3.682785   \n4                           0.18222              3.470925   \n\n   post_update_val_categorical_accuracy  best_val_categorical_accuracy  \n0                                0.1022                         0.4323  \n1                                0.1859                         0.4253  \n2                                0.1282                         0.4266  \n3                                0.1355                         0.4271  \n4                                0.1734                         0.4287  ",
      "text/html": "<div>\n<style scoped>\n    .dataframe tbody tr th:only-of-type {\n        vertical-align: middle;\n    }\n\n    .dataframe tbody tr th {\n        vertical-align: top;\n    }\n\n    .dataframe thead th {\n        text-align: right;\n    }\n</style>\n<table border=\"1\" class=\"dataframe\">\n  <thead>\n    <tr style=\"text-align: right;\">\n      <th></th>\n      <th>initial_rank</th>\n      <th>new_rank</th>\n      <th>rank_update_epoch</th>\n      <th>total_epochs</th>\n      <th>loss</th>\n      <th>categorical_accuracy</th>\n      <th>val_loss</th>\n      <th>val_categorical_accuracy</th>\n      <th>pre_update_loss</th>\n      <th>pre_update_categorical_accuracy</th>\n      <th>pre_update_val_loss</th>\n      <th>pre_update_val_categorical_accuracy</th>\n      <th>post_update_loss</th>\n      <th>post_update_categorical_accuracy</th>\n      <th>post_update_val_loss</th>\n      <th>post_update_val_categorical_accuracy</th>\n      <th>best_val_categorical_accuracy</th>\n    </tr>\n  </thead>\n  <tbody>\n    <tr>\n      <th>0</th>\n      <td>-1</td>\n      <td>50</td>\n      <td>1</td>\n      <td>50</td>\n      <td>[4.211894989013672, 3.7534401416778564, 3.5121...</td>\n      <td>[0.0566600002348423, 0.12629999220371246, 0.16...</td>\n      <td>[3.9092013835906982, 3.631721019744873, 3.4621...</td>\n      <td>[0.1021999940276146, 0.1467999964952469, 0.178...</td>\n      <td>3.886894</td>\n      <td>0.10422</td>\n      <td>3.909202</td>\n      <td>0.1022</td>\n      <td>3.886894</td>\n      <td>0.10422</td>\n      <td>3.909202</td>\n      <td>0.1022</td>\n      <td>0.4323</td>\n    </tr>\n    <tr>\n      <th>1</th>\n      <td>-1</td>\n      <td>10</td>\n      <td>3</td>\n      <td>50</td>\n      <td>[4.208507061004639, 3.774122476577759, 3.52627...</td>\n      <td>[0.05593999847769737, 0.1240599974989891, 0.16...</td>\n      <td>[3.936525583267212, 3.6506218910217285, 3.4352...</td>\n      <td>[0.09569999575614929, 0.1477999985218048, 0.18...</td>\n      <td>3.391030</td>\n      <td>0.18912</td>\n      <td>3.435238</td>\n      <td>0.1859</td>\n      <td>3.391030</td>\n      <td>0.18912</td>\n      <td>3.435238</td>\n      <td>0.1859</td>\n      <td>0.4253</td>\n    </tr>\n    <tr>\n      <th>2</th>\n      <td>-1</td>\n      <td>50</td>\n      <td>2</td>\n      <td>50</td>\n      <td>[4.226785659790039, 3.791909694671631, 3.53389...</td>\n      <td>[0.05289999768137932, 0.11937999725341797, 0.1...</td>\n      <td>[3.951653003692627, 3.7066705226898193, 3.4429...</td>\n      <td>[0.08590000122785568, 0.1281999945640564, 0.18...</td>\n      <td>3.677031</td>\n      <td>0.13582</td>\n      <td>3.706670</td>\n      <td>0.1282</td>\n      <td>3.677031</td>\n      <td>0.13582</td>\n      <td>3.706670</td>\n      <td>0.1282</td>\n      <td>0.4266</td>\n    </tr>\n    <tr>\n      <th>3</th>\n      <td>-1</td>\n      <td>10</td>\n      <td>2</td>\n      <td>50</td>\n      <td>[4.224714756011963, 3.7752363681793213, 3.5254...</td>\n      <td>[0.053439997136592865, 0.12135999649763107, 0....</td>\n      <td>[3.9386816024780273, 3.6827845573425293, 3.461...</td>\n      <td>[0.09510000050067902, 0.1354999989271164, 0.18...</td>\n      <td>3.647365</td>\n      <td>0.14458</td>\n      <td>3.682785</td>\n      <td>0.1355</td>\n      <td>3.647365</td>\n      <td>0.14458</td>\n      <td>3.682785</td>\n      <td>0.1355</td>\n      <td>0.4271</td>\n    </tr>\n    <tr>\n      <th>4</th>\n      <td>-1</td>\n      <td>160</td>\n      <td>3</td>\n      <td>50</td>\n      <td>[4.2550835609436035, 3.849698066711426, 3.5598...</td>\n      <td>[0.04797999933362007, 0.10892000049352646, 0.1...</td>\n      <td>[4.051120281219482, 3.6908910274505615, 3.4709...</td>\n      <td>[0.0731000006198883, 0.1378999948501587, 0.173...</td>\n      <td>3.429373</td>\n      <td>0.18222</td>\n      <td>3.470925</td>\n      <td>0.1734</td>\n      <td>3.429373</td>\n      <td>0.18222</td>\n      <td>3.470925</td>\n      <td>0.1734</td>\n      <td>0.4287</td>\n    </tr>\n  </tbody>\n</table>\n</div>"
     },
     "execution_count": 18,
     "metadata": {},
     "output_type": "execute_result"
    }
   ],
   "source": [
    "RESULTS = glob(os.path.join(\"set_rank_results_conv_cifar100\", \"*.json\"))\n",
    "results = pd.DataFrame([json.load(open(file)) for file in RESULTS])\n",
    "results[\"best_val_categorical_accuracy\"] = results[\"val_categorical_accuracy\"].map(np.max)\n",
    "results.head()"
   ],
   "metadata": {
    "collapsed": false,
    "pycharm": {
     "name": "#%%\n"
    }
   }
  },
  {
   "cell_type": "code",
   "execution_count": 19,
   "outputs": [
    {
     "data": {
      "text/plain": "(array([ 50,  10, 160]), array([1, 3, 2]))"
     },
     "execution_count": 19,
     "metadata": {},
     "output_type": "execute_result"
    }
   ],
   "source": [
    "results[\"new_rank\"].unique(), results[\"rank_update_epoch\"].unique()"
   ],
   "metadata": {
    "collapsed": false,
    "pycharm": {
     "name": "#%%\n"
    }
   }
  },
  {
   "cell_type": "code",
   "execution_count": 23,
   "outputs": [
    {
     "data": {
      "text/plain": "<Figure size 432x288 with 1 Axes>",
      "image/png": "[encoded data removed]"
     },
     "metadata": {
      "needs_background": "light"
     },
     "output_type": "display_data"
    },
    {
     "data": {
      "text/plain": "          new_rank  best_val_categorical_accuracy\nnew_rank                                         \n10            10.0                        0.42625\n50            50.0                        0.42660\n160          160.0                        0.42750",
      "text/html": "<div>\n<style scoped>\n    .dataframe tbody tr th:only-of-type {\n        vertical-align: middle;\n    }\n\n    .dataframe tbody tr th {\n        vertical-align: top;\n    }\n\n    .dataframe thead th {\n        text-align: right;\n    }\n</style>\n<table border=\"1\" class=\"dataframe\">\n  <thead>\n    <tr style=\"text-align: right;\">\n      <th></th>\n      <th>new_rank</th>\n      <th>best_val_categorical_accuracy</th>\n    </tr>\n    <tr>\n      <th>new_rank</th>\n      <th></th>\n      <th></th>\n    </tr>\n  </thead>\n  <tbody>\n    <tr>\n      <th>10</th>\n      <td>10.0</td>\n      <td>0.42625</td>\n    </tr>\n    <tr>\n      <th>50</th>\n      <td>50.0</td>\n      <td>0.42660</td>\n    </tr>\n    <tr>\n      <th>160</th>\n      <td>160.0</td>\n      <td>0.42750</td>\n    </tr>\n  </tbody>\n</table>\n</div>"
     },
     "execution_count": 23,
     "metadata": {},
     "output_type": "execute_result"
    }
   ],
   "source": [
    "update_epoch = 2\n",
    "epoch_results = results.loc[\n",
    "    results[\"rank_update_epoch\"] == update_epoch,\n",
    "    [\"new_rank\", \"best_val_categorical_accuracy\"]\n",
    "]\n",
    "for new_rank in epoch_results[\"new_rank\"].unique():\n",
    "    plt.hist(\n",
    "        epoch_results.loc[epoch_results[\"new_rank\"] == new_rank, [\"best_val_categorical_accuracy\"]],\n",
    "        label=f\"{new_rank}\",\n",
    "        # bins=10,\n",
    "        alpha=0.25)\n",
    "plt.title(f\"Dropping rank on epoch {update_epoch}\")\n",
    "plt.xlabel(\"Best Val Acc\")\n",
    "plt.ylabel(\"Frequency\")\n",
    "plt.legend()\n",
    "plt.show()\n",
    "epoch_results.groupby(\"new_rank\").apply(np.mean)"
   ],
   "metadata": {
    "collapsed": false,
    "pycharm": {
     "name": "#%%\n"
    }
   }
  },
  {
   "cell_type": "code",
   "execution_count": 17,
   "outputs": [],
   "source": [],
   "metadata": {
    "collapsed": false,
    "pycharm": {
     "name": "#%%\n"
    }
   }
  }
 ],
 "metadata": {
  "kernelspec": {
   "display_name": "Python 3",
   "language": "python",
   "name": "python3"
  },
  "language_info": {
   "codemirror_mode": {
    "name": "ipython",
    "version": 2
   },
   "file_extension": ".py",
   "mimetype": "text/x-python",
   "name": "python",
   "nbconvert_exporter": "python",
   "pygments_lexer": "ipython2",
   "version": "2.7.6"
  }
 },
 "nbformat": 4,
 "nbformat_minor": 0
}